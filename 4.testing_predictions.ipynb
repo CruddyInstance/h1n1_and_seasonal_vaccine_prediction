{
 "cells": [
  {
   "cell_type": "code",
   "execution_count": 6,
   "metadata": {},
   "outputs": [],
   "source": [
    "import numpy as np\n",
    "import pandas as pd"
   ]
  },
  {
   "cell_type": "code",
   "execution_count": 7,
   "metadata": {},
   "outputs": [],
   "source": [
    "import pickle"
   ]
  },
  {
   "cell_type": "code",
   "execution_count": 12,
   "metadata": {},
   "outputs": [],
   "source": [
    "from sklearn.metrics import classification_report, accuracy_score, confusion_matrix\n",
    "from sklearn.model_selection import train_test_split"
   ]
  },
  {
   "cell_type": "code",
   "execution_count": 2,
   "metadata": {},
   "outputs": [],
   "source": [
    "# Now we will work on test set features\n",
    "\n",
    "df_test = pd.read_csv(\"test_set_features.csv\")"
   ]
  },
  {
   "cell_type": "code",
   "execution_count": 3,
   "metadata": {},
   "outputs": [],
   "source": [
    "# we will apply same transformations as train set\n",
    "\n",
    "df_test = df_test.drop(['health_insurance', 'employment_industry', 'employment_occupation'], axis = 1)"
   ]
  },
  {
   "cell_type": "code",
   "execution_count": 4,
   "metadata": {},
   "outputs": [],
   "source": [
    "for column in df_test.columns:\n",
    "    if df_test[column].isnull().any():  # Check if the column has missing values\n",
    "        mode_value = df_test[column].mode()[0]  # Calculate the mode of the column\n",
    "        df_test[column].fillna(mode_value, inplace=True)  # Impute missing values with the mode"
   ]
  },
  {
   "cell_type": "code",
   "execution_count": 5,
   "metadata": {},
   "outputs": [],
   "source": [
    "columns_to_encode = df_test.select_dtypes(exclude=['number']).columns.tolist()"
   ]
  },
  {
   "cell_type": "code",
   "execution_count": 8,
   "metadata": {},
   "outputs": [],
   "source": [
    "file_path = 'encoder.pkl'\n",
    "\n",
    "# Import the encoder object\n",
    "with open(file_path, 'rb') as file:\n",
    "    encoder = pickle.load(file)"
   ]
  },
  {
   "cell_type": "code",
   "execution_count": 25,
   "metadata": {},
   "outputs": [],
   "source": [
    "# Subset the columns to be encoded\n",
    "df_to_encode = df_test[columns_to_encode]\n",
    "\n",
    "# Fit and transform the data\n",
    "encoded_data = encoder.fit_transform(df_to_encode)\n",
    "\n",
    "\n",
    "# Convert the transformed data to a DataFrame\n",
    "encoded_df = pd.DataFrame(encoded_data.toarray(), columns=encoder.get_feature_names_out(columns_to_encode))\n",
    "\n",
    "# Concatenate the encoded DataFrame with the original DataFrame\n",
    "df_encoded = pd.concat([df_test, encoded_df], axis=1)"
   ]
  },
  {
   "cell_type": "code",
   "execution_count": 26,
   "metadata": {},
   "outputs": [],
   "source": [
    "# drop the original columns which will not be numerical\n",
    "df_encoded.drop(columns_to_encode, axis= 1, inplace= True)"
   ]
  },
  {
   "cell_type": "code",
   "execution_count": 27,
   "metadata": {},
   "outputs": [
    {
     "data": {
      "text/plain": [
       "Index([], dtype='object')"
      ]
     },
     "execution_count": 27,
     "metadata": {},
     "output_type": "execute_result"
    }
   ],
   "source": [
    "# checking for any non-numeric feature\n",
    "df_encoded.select_dtypes(exclude=['number']).columns "
   ]
  },
  {
   "cell_type": "code",
   "execution_count": 28,
   "metadata": {},
   "outputs": [],
   "source": [
    "# Import the prediction objects\n",
    "with open(\"h1n1_classifier\", 'rb') as file:\n",
    "    h1n1_classifier = pickle.load(file)\n",
    "\n",
    "with open(\"seasonal_classifier\", 'rb') as file:\n",
    "    seasonal_classifier = pickle.load(file)    "
   ]
  },
  {
   "cell_type": "code",
   "execution_count": 29,
   "metadata": {},
   "outputs": [],
   "source": [
    "h1n1_vaccine = h1n1_classifier.predict(df_encoded.drop(['respondent_id'], axis= 1))\n",
    "h1n1_vaccine = pd.Series(h1n1_vaccine)\n",
    "df_encoded[\"h1n1_vaccine\"] = h1n1_vaccine"
   ]
  },
  {
   "cell_type": "code",
   "execution_count": 30,
   "metadata": {},
   "outputs": [],
   "source": [
    "seasonal_vaccine = seasonal_classifier.predict(df_encoded.drop(['respondent_id','h1n1_vaccine'], axis= 1))\n",
    "seasonal_vaccine = pd.Series(seasonal_vaccine)\n",
    "df_encoded[\"seasonal_vaccine\"] = seasonal_vaccine"
   ]
  },
  {
   "cell_type": "code",
   "execution_count": 34,
   "metadata": {},
   "outputs": [],
   "source": [
    "df_encoded[['respondent_id','h1n1_vaccine', 'seasonal_vaccine']].astype('float64').to_csv(\"submission1.csv\", index= False)"
   ]
  },
  {
   "cell_type": "code",
   "execution_count": null,
   "metadata": {},
   "outputs": [],
   "source": []
  }
 ],
 "metadata": {
  "kernelspec": {
   "display_name": "base",
   "language": "python",
   "name": "python3"
  },
  "language_info": {
   "codemirror_mode": {
    "name": "ipython",
    "version": 3
   },
   "file_extension": ".py",
   "mimetype": "text/x-python",
   "name": "python",
   "nbconvert_exporter": "python",
   "pygments_lexer": "ipython3",
   "version": "3.9.7"
  },
  "orig_nbformat": 4
 },
 "nbformat": 4,
 "nbformat_minor": 2
}
